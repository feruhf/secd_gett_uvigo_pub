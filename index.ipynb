{
  "nbformat": 4,
  "nbformat_minor": 0,
  "metadata": {
    "colab": {
      "name": "secd-tema7-problemas.ipynb",
      "provenance": [],
      "collapsed_sections": []
    },
    "kernelspec": {
      "name": "python3",
      "display_name": "Python 3"
    }
  },
  "cells": [
    {
      "cell_type": "markdown",
      "metadata": {
        "id": "POX5itFMkINH",
        "colab_type": "text"
      },
      "source": [
        "# Sistemas Electrónicos para Comunicaciones Digitales\n",
        "# Ejercicios de sistemas de comunicación inalámbrica\n",
        "\n",
        "Tabla 1. Características del módulo Bluettoth BlueCore2 de CSR configurado en modo de monitorización o sondeo de bajo consumo con una conexión ACL (*Asynchronous Connectionless Link*)\n",
        ">Packet Type | Packet Size (data bytes) | Data rate (kbps)\n",
        ">--- | --- | ---\n",
        ">DH1 (1 slot)  |  28 | 172.8\n",
        ">DH3 (3 slots) | 183 | 585\n",
        ">DH5 (5 slots) | 341 | 733.9\n",
        "\n",
        "> Sniff interval ($T_{sniff}$) (ms) | $I_{sleep}$ (mA) | $I_{act}$ (mA)\n",
        "> --- | --- | ---\n",
        ">40   | 4.0 | 50\n",
        ">470  | 2.5 | 50\n",
        ">1280 | 0.5 | 50\n",
        "\n",
        "Tabla 2. Características del módulo ZigBee MC1323x de Freescale\n",
        "> $I_{sleep}$ ($\\mu$A) | $I_{act}$ (mA)\n",
        "> --- | ---\n",
        ">   1 | 30\n",
        "\n",
        "\n",
        "\n",
        "\n"
      ]
    },
    {
      "cell_type": "markdown",
      "metadata": {
        "id": "V8y-BQqgFZjW",
        "colab_type": "text"
      },
      "source": [
        "## **Ejercicio 1**\n",
        "\n",
        "Se desea realizar una red inalámbrica de sensores distribuidos para monitorizar una serie de variables en distintos puntos de un área de medida. Cada nodo sensor del sistema realizará una adquisición cada $100\\,ms$, codificará la información utilizando $20\\,bytes$, empaquetará dicha información y la enviará periódicamente ($T_{per}$) al nodo coordinador o maestro. Para realizar una estimación, se considerará que los nodos sensores se alimentan con una batería con una capacidad nominal de $100\\,mA·h$ y que el consumo está dominado por el módulo de comunicación inalámbrica.\n",
        "\n"
      ]
    },
    {
      "cell_type": "markdown",
      "metadata": {
        "id": "cXneFro8PCQi",
        "colab_type": "text"
      },
      "source": [
        "### Apartado a)\n",
        "a) Si se utiliza un módulo Bluetooth BlueCore2 de CSR para realizar la comunicación, en modo de sondeo de bajo consumo con una conexión ACL, determinar la duración de la batería del nodo sensor o esclavo cuando se configura la red con unperiodo de sondeo o monitorización de datos, $T_{per} = T_{sniff} = 470\\,ms$, y se empaquetan los datosutilizando Packet Type DH3."
      ]
    },
    {
      "cell_type": "markdown",
      "metadata": {
        "id": "ALQWBnxtLn0b",
        "colab_type": "text"
      },
      "source": [
        "### Solución"
      ]
    },
    {
      "cell_type": "markdown",
      "metadata": {
        "id": "lX1abTxbszg1",
        "colab_type": "text"
      },
      "source": [
        "#### Tasa efectiva\n",
        "* Periodo de muestro: $T_{samplig}=T_s=100\\,ms$\n",
        "* Datos por muestra: $d=20\\,bytes$\n",
        "* Tasa efectiva: $DR_{eff}=\\frac{20 bytes}{100 ms}= 200\\,Bps = 1600\\,bps$  \n"
      ]
    },
    {
      "cell_type": "code",
      "metadata": {
        "id": "zn8pk-jQkHb7",
        "colab_type": "code",
        "outputId": "12678eb6-4f9c-40fd-a337-73a5c4eddf49",
        "colab": {
          "base_uri": "https://localhost:8080/",
          "height": 34
        }
      },
      "source": [
        "import numpy as np\n",
        "Ts=100e-3\n",
        "d=20\n",
        "DReff=d*8/Ts\n",
        "DReff"
      ],
      "execution_count": 0,
      "outputs": [
        {
          "output_type": "execute_result",
          "data": {
            "text/plain": [
              "1600.0"
            ]
          },
          "metadata": {
            "tags": []
          },
          "execution_count": 2
        }
      ]
    },
    {
      "cell_type": "markdown",
      "metadata": {
        "id": "8Ga1cZ3qwhTJ",
        "colab_type": "text"
      },
      "source": [
        "#### Bluetooth BlueCore2. Packet Type DH3 ($183\\,bytes$ y $585\\,kbps$):\n",
        "* Periodo de sondeo de datos: $T_{per}=470\\,\\mu s$\n",
        "* Tasa de transmisión de datos: $DR = 585\\,kbps$ \n",
        "\n",
        "#### Tamaño del paquete:\n",
        "\n",
        "* $Samples\\_per\\_packet=T_{per}/T_s=\\frac{470}{100}=4,7\\approx 4\\,samples\\ per\\ packet$\n",
        "* $Bytes\\_per\\_packet = 4·20 = 80\\,bytes$ "
      ]
    },
    {
      "cell_type": "code",
      "metadata": {
        "id": "-ohFB952z6jY",
        "colab_type": "code",
        "outputId": "2bce4cb8-e3aa-4383-c496-6536437d7b74",
        "colab": {
          "base_uri": "https://localhost:8080/",
          "height": 34
        }
      },
      "source": [
        "Tper = 470e-3\n",
        "DR_bt = 585000\n",
        "Samples_per_packet = np.floor(Tper / Ts)\n",
        "Bytes_per_packet = Samples_per_packet * d\n",
        "print(Samples_per_packet, Bytes_per_packet)"
      ],
      "execution_count": 0,
      "outputs": [
        {
          "output_type": "stream",
          "text": [
            "4.0 80.0\n"
          ],
          "name": "stdout"
        }
      ]
    },
    {
      "cell_type": "markdown",
      "metadata": {
        "id": "V2Ppzp26IFIK",
        "colab_type": "text"
      },
      "source": [
        "#### Tiempo activo de transmisión:\n",
        "\n",
        "* $T_{act} = \\frac{Bytes\\_per\\_packet · 8}{DR}= 1,09\\ ms$\n",
        "* $T_{sleep} = T_{per}-T_{act} = 468,91 \\ ms$"
      ]
    },
    {
      "cell_type": "code",
      "metadata": {
        "id": "r8aRKbk8IETl",
        "colab_type": "code",
        "outputId": "5e9afe37-a0fc-4d5d-ff6a-186305d2228d",
        "colab": {
          "base_uri": "https://localhost:8080/",
          "height": 34
        }
      },
      "source": [
        "Tact_bt = Bytes_per_packet * 8 / DR_bt\n",
        "Tsleep_bt = Tper - Tact_bt\n",
        "print(Tact_bt, Tsleep_bt) "
      ],
      "execution_count": 0,
      "outputs": [
        {
          "output_type": "stream",
          "text": [
            "0.001094017094017094 0.4689059829059829\n"
          ],
          "name": "stdout"
        }
      ]
    },
    {
      "cell_type": "markdown",
      "metadata": {
        "id": "6z8kOBVzL5OC",
        "colab_type": "text"
      },
      "source": [
        "#### Corriente consumida media: \n",
        "* Corriente consumida en modo activo: $I_{act} = 50\\ mA$\n",
        "* Corriente consumida en modo *sleep*: $I_{sleep} = 2,5\\ mA$\n",
        "\n",
        "![Consumos](https://raw.githubusercontent.com/feruhf/secd_gett_uvigo_pub/master/images/grafica_consumo.png)\n",
        "\n",
        "* Corriente media consumida: $I_{av} = \\frac{I_{act}·T_{act}+I_{sleep}·T_{sleep}}{T_{per}}=2,61\\ mA$ "
      ]
    },
    {
      "cell_type": "code",
      "metadata": {
        "id": "8pgxN2BONvYh",
        "colab_type": "code",
        "outputId": "1eb82a57-ebec-44af-faec-157293283f19",
        "colab": {
          "base_uri": "https://localhost:8080/",
          "height": 34
        }
      },
      "source": [
        "Iact_bt   = 50e-3\n",
        "Isleep_bt = 2.5e-3\n",
        "Iav_bt = (Iact_bt*Tact_bt + Isleep_bt*Tsleep_bt)/Tper\n",
        "Iav_bt"
      ],
      "execution_count": 0,
      "outputs": [
        {
          "output_type": "execute_result",
          "data": {
            "text/plain": [
              "0.0026105655573740684"
            ]
          },
          "metadata": {
            "tags": []
          },
          "execution_count": 5
        }
      ]
    },
    {
      "cell_type": "markdown",
      "metadata": {
        "id": "s3zM7J0-QH-p",
        "colab_type": "text"
      },
      "source": [
        "#### Duración de la batería\n",
        "* Capacidad de la batería: $W_{bat}=100\\ mA·h$\n",
        "* Duración de la batería: $T_{work}=W_{bat}/I_{av}=\\frac{100\\ mA·h}{2,61\\ mA} = 38,3\\ horas = 1,6\\ días$"
      ]
    },
    {
      "cell_type": "code",
      "metadata": {
        "id": "apc3WBfbTWX1",
        "colab_type": "code",
        "outputId": "613aee1f-cd0a-4dac-fe3e-57957a5b74a7",
        "colab": {
          "base_uri": "https://localhost:8080/",
          "height": 34
        }
      },
      "source": [
        "Wbar = 100e-3 # A·h\n",
        "Twork_h = Wbar / Iav_bt\n",
        "Twork_d = Twork_h/24\n",
        "print(Twork_h, Twork_d)"
      ],
      "execution_count": 0,
      "outputs": [
        {
          "output_type": "stream",
          "text": [
            "38.305875796732956 1.5960781581972066\n"
          ],
          "name": "stdout"
        }
      ]
    },
    {
      "cell_type": "markdown",
      "metadata": {
        "id": "qLb9zpKAQFwg",
        "colab_type": "text"
      },
      "source": [
        "### Apartado b)\n",
        "Si se utiliza un módulo ZigBee MC1323x de Freescale para realizar la comunicación, con una tasa efectiva de datos de 9600 bps, considerando un consumo medio en modo activo (transmisión) $I_{act} = 30\\ mA$, y un consumo medio en modo de reposo $I_{sleep} = 1\\ \\mu A$. Determinar la duración de la batería del nodo sensor o esclavo cuando se configura la red con un periodo de sondeo, $T_{per} = 470\\ ms$."
      ]
    },
    {
      "cell_type": "markdown",
      "metadata": {
        "colab_type": "text",
        "id": "Nr9JmL8oVM3y"
      },
      "source": [
        "### Solución"
      ]
    },
    {
      "cell_type": "markdown",
      "metadata": {
        "colab_type": "text",
        "id": "7cZJ0m1HUnOW"
      },
      "source": [
        "#### ZigBee MC1323x ($9600\\,bps$):\n",
        "* Periodo de sondeo de datos: $T_{per}=470\\,\\mu s$\n",
        "* Tasa de transmisión de datos: $DR = 9600\\,bps$ \n",
        "\n",
        "#### Tamaño del paquete:\n",
        "\n",
        "* $Samples\\ per\\ packet=T_{per}/T_s=\\frac{470}{100}=4,7\\approx 4\\,samples\\ per\\ packet$\n",
        "* $Bytes\\_por\\_paquete = 4·20 = 80\\,bytes$ "
      ]
    },
    {
      "cell_type": "code",
      "metadata": {
        "colab_type": "code",
        "outputId": "28c39477-d5e4-42a4-ddfe-12114d5d243c",
        "id": "13a_x8L5Uv1L",
        "colab": {
          "base_uri": "https://localhost:8080/",
          "height": 34
        }
      },
      "source": [
        "Tper = 470e-3\n",
        "DR_zb = 9600\n",
        "#Samples_per_packet = np.floor(Tper / Ts)\n",
        "#Bytes_per_packet = Samples_per_packet * d\n",
        "print(Samples_per_packet, Bytes_per_packet)"
      ],
      "execution_count": 0,
      "outputs": [
        {
          "output_type": "stream",
          "text": [
            "4.0 80.0\n"
          ],
          "name": "stdout"
        }
      ]
    },
    {
      "cell_type": "markdown",
      "metadata": {
        "colab_type": "text",
        "id": "TpnDtmO6Uv1c"
      },
      "source": [
        "#### Tiempo activo de transmisión:\n",
        "\n",
        "* $T_{act} = \\frac{Bytes\\_per\\_packet · 8}{DR}= 66,67\\ ms$\n",
        "* $T_{sleep} = T_{per}-T_{act} = 403,33\\ ms$"
      ]
    },
    {
      "cell_type": "code",
      "metadata": {
        "colab_type": "code",
        "outputId": "e7826cfa-6f86-4f12-f908-c9d3bb3af9ca",
        "id": "WtF7uY5uUv1e",
        "colab": {
          "base_uri": "https://localhost:8080/",
          "height": 34
        }
      },
      "source": [
        "Tact_zb = Bytes_per_packet * 8 / DR_zb\n",
        "Tsleep_zb = Tper - Tact_zb\n",
        "print(Tact_zb, Tsleep_zb) "
      ],
      "execution_count": 0,
      "outputs": [
        {
          "output_type": "stream",
          "text": [
            "0.06666666666666667 0.4033333333333333\n"
          ],
          "name": "stdout"
        }
      ]
    },
    {
      "cell_type": "markdown",
      "metadata": {
        "colab_type": "text",
        "id": "-4pQfa3NUv1m"
      },
      "source": [
        "#### Corriente consumida media: \n",
        "* Corriente consumida en modo activo: $I_{act} = 30\\ mA$\n",
        "* Corriente consumida en modo *sleep*: $I_{sleep} = 1\\ \\mu A$\n",
        "* Corriente media consumida: $I_{av} = \\frac{I_{act}·T_{act}+I_{sleep}·T_{sleep}}{T_{per}}= 4,26\\ mA$ "
      ]
    },
    {
      "cell_type": "code",
      "metadata": {
        "colab_type": "code",
        "outputId": "bb0c9881-6058-499d-f1cd-b8b88a3aeed4",
        "id": "Q1N_XhnIUv1n",
        "colab": {
          "base_uri": "https://localhost:8080/",
          "height": 34
        }
      },
      "source": [
        "Iact_zb   = 30e-3\n",
        "Isleep_zb = 1e-6\n",
        "Iav_zb = (Iact_zb*Tact_zb + Isleep_zb*Tsleep_zb)/Tper\n",
        "Iav_zb"
      ],
      "execution_count": 0,
      "outputs": [
        {
          "output_type": "execute_result",
          "data": {
            "text/plain": [
              "0.00425617730496454"
            ]
          },
          "metadata": {
            "tags": []
          },
          "execution_count": 9
        }
      ]
    },
    {
      "cell_type": "markdown",
      "metadata": {
        "colab_type": "text",
        "id": "-InZzyyjUv1s"
      },
      "source": [
        "#### Duración de la batería\n",
        "* Capacidad de la batería: $W_{bat}=100\\ mA·h$\n",
        "* Duración de la batería: $T_{work}=W_{bat}/I_{av}=\\frac{100\\ mA·h}{2,61\\ mA} = 23,5\\ horas$"
      ]
    },
    {
      "cell_type": "code",
      "metadata": {
        "colab_type": "code",
        "outputId": "f3617027-5623-4554-e972-a0712176b244",
        "id": "6xFtZeVuUv1t",
        "colab": {
          "base_uri": "https://localhost:8080/",
          "height": 34
        }
      },
      "source": [
        "Wbar = 100e-3 # A·h\n",
        "Twork_h = Wbar / Iav_zb\n",
        "Twork_d = Twork_h/24\n",
        "print(Twork_h, Twork_d)"
      ],
      "execution_count": 0,
      "outputs": [
        {
          "output_type": "stream",
          "text": [
            "23.495261788872575 0.978969241203024\n"
          ],
          "name": "stdout"
        }
      ]
    },
    {
      "cell_type": "markdown",
      "metadata": {
        "colab_type": "text",
        "id": "zVK8x0hDWjha"
      },
      "source": [
        "### Apartado c)\n",
        "c) ¿Cuál es la tasa efectiva de datos mínima del enlace ZigBee para que la duración de la batería de\n",
        "los nodos sensores con comunicación ZigBee sea mayor que la de los nodos con comunicación\n",
        "Bluetooth?"
      ]
    },
    {
      "cell_type": "markdown",
      "metadata": {
        "colab_type": "text",
        "id": "g6A0I3y2Wbb3"
      },
      "source": [
        "### Solución"
      ]
    },
    {
      "cell_type": "markdown",
      "metadata": {
        "colab_type": "text",
        "id": "_0upA18zWbb_"
      },
      "source": [
        "#### Corriente media consumida:\n",
        ">(1) $I_{av} = \\frac{I_{act}·T_{act}+I_{sleep}·T_{sleep}}{T_{per}}$\n",
        "\n",
        ">(2) $T_{sleep}=T_{per}-T_{act}$\n",
        "\n",
        ">(3) $I_{av}=\\frac{I_{act}·T_{act}+I_{sleep}·(T_{per}-T_{act})}{T_{per}}=\\frac{I_{act}·T_{act}+I_{sleep}·T_{per}-I_{sleep}·T_{act}}{T_{per}} = \\frac{T_{act}·(I_{act}-I_{sleep})+T_{per}·I_{sleep}}{T_{per}} $\n",
        "\n",
        ">(4) $T_{act} = \\frac{Bytes\\_per\\_packet · 8}{DR}$\n",
        "\n",
        ">(5) $I_{av}=\\frac{\\frac{Bytes\\_per\\_packet · 8}{DR}·(I_{act}-I_{sleep})+T_{per}·I_{sleep}}{T_{per}}$\n",
        "\n",
        ">(6) $\\boxed{I_{av}=Bytes\\_per\\_packet·\\frac{8·(I_{act}-I_{sleep})}{DR·T_{per}}+I_{sleep}}$\n",
        "\n",
        "\n",
        "#### Condición de consumo:\n",
        "* $I_{av_{ZB}}<I_{av_{BT}}$\n",
        "\n",
        "* $Bytes\\_per\\_packet·\\frac{8·(I_{act_{ZB}}-I_{sleep_{ZB}})}{DR_{ZB}·T_{per}}+I_{sleep_{ZB}} < Bytes\\_per\\_packet·\\frac{8·(I_{act_{BT}}-I_{sleep_{BT}})}{DR_{BT}·T_{per}}+I_{sleep_{BT}}$\n",
        "\n",
        "* $\\boxed{Bytes\\_per\\_packet < \\frac{I_{sleep_{BT}} -I_{sleep_{ZB}}}{\\frac{8·(I_{act_{ZB}}-I_{sleep_{ZB}})}{DR_{ZB}·T_{per}} - \\frac{8·(I_{act_{BT}}-I_{sleep_{BT}})}{DR_{BT}·T_{per}}}\\approx 48\\ bytes}$\n",
        "\n",
        "#### Tasa efectiva mínima:\n",
        "* $DR_{eff}=(\\frac{Bytes\\_per\\_packet·8}{Samples\\_per\\_packet})/T_s = Bytes\\_per\\_packet·\\frac{8}{Samples\\_per\\_packet·T_s} \\approx 964\\ bps$\n",
        "\n"
      ]
    },
    {
      "cell_type": "code",
      "metadata": {
        "id": "08iUIYYSwoQM",
        "colab_type": "code",
        "outputId": "178ac3d8-b6c1-4b9f-f647-efcf951ada36",
        "colab": {
          "base_uri": "https://localhost:8080/",
          "height": 34
        }
      },
      "source": [
        "Bytes_per_packet_min = (Isleep_bt-Isleep_zb)/(8*(Iact_zb-Isleep_zb)/(DR_zb*Tper)-8*(Iact_bt-Isleep_bt)/(DR_bt*Tper))\n",
        "DReff_min=Bytes_per_packet_min*8/Samples_per_packet/Ts\n",
        "print(Bytes_per_packet_min, DReff_min)"
      ],
      "execution_count": 0,
      "outputs": [
        {
          "output_type": "stream",
          "text": [
            "48.23612250682499 964.7224501364998\n"
          ],
          "name": "stdout"
        }
      ]
    },
    {
      "cell_type": "code",
      "metadata": {
        "id": "-Cy6juGtxAnW",
        "colab_type": "code",
        "outputId": "a8d0d998-516b-454b-d6d6-1e38bc755520",
        "colab": {
          "base_uri": "https://localhost:8080/",
          "height": 34
        }
      },
      "source": [
        "DReffmin=Bytes_per_packet_min*8/Samples_per_packet/Ts\n",
        "DReffmin"
      ],
      "execution_count": 0,
      "outputs": [
        {
          "output_type": "execute_result",
          "data": {
            "text/plain": [
              "964.7224501364998"
            ]
          },
          "metadata": {
            "tags": []
          },
          "execution_count": 12
        }
      ]
    },
    {
      "cell_type": "code",
      "metadata": {
        "colab_type": "code",
        "outputId": "1465be42-1202-4b16-8430-a936c48cdb80",
        "id": "gvG2kdN_olfC",
        "colab": {
          "base_uri": "https://localhost:8080/",
          "height": 567
        }
      },
      "source": [
        "import matplotlib.pyplot as plt\n",
        "Bytes_per_packet_arr=np.arange(30,80,1)\n",
        "Iav_zb_arr = Bytes_per_packet_arr*8/(DR_zb*Tper)*(Iact_zb-Isleep_zb)+Isleep_zb\n",
        "Iav_bt_arr = Bytes_per_packet_arr*8/(DR_bt*Tper)*(Iact_bt-Isleep_bt)+Isleep_bt\n",
        "\n",
        "Iav_th = Bytes_per_packet_min*8/(DR_bt*Tper)*(Iact_bt-Isleep_bt)+Isleep_bt\n",
        "\n",
        "Bits_per_packet_arr = Bytes_per_packet_arr*8\n",
        "DReff_arr = Bytes_per_packet_arr*8/Samples_per_packet/Ts\n",
        "\n",
        "plt.figure(figsize=[12,9])\n",
        "plt.plot(DReff_arr,Iav_zb_arr*1e3, label='Módulo Bluetooth: $I_{av_{BT}}$')\n",
        "plt.plot(DReff_arr,Iav_bt_arr*1e3, label='Móódulo ZigBee: $I_{av_{BT}}$')\n",
        "plt.plot(DReff_min,Iav_th*1e3,'ro')\n",
        "plt.annotate('DReff_min', xy=(DReff_min,Iav_th*1e3), xytext=(DReff_min-150,Iav_th*1e3+0.5),\n",
        "             arrowprops=dict(facecolor='black', shrink=0.05),\n",
        "             )\n",
        "plt.title(\"Average current VS Effective Data Rate\")\n",
        "plt.ylabel('Average current, Iav [mA]')\n",
        "plt.xlabel('Effective Data Rate [bps]')\n",
        "plt.legend()\n",
        "plt.grid()\n",
        "plt.show()"
      ],
      "execution_count": 0,
      "outputs": [
        {
          "output_type": "display_data",
          "data": {
            "image/png": "[encoded data removed]",
            "text/plain": [
              "<Figure size 864x648 with 1 Axes>"
            ]
          },
          "metadata": {
            "tags": [],
            "needs_background": "light"
          }
        }
      ]
    }
  ]
}